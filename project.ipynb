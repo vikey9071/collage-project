{
  "nbformat": 4,
  "nbformat_minor": 0,
  "metadata": {
    "colab": {
      "name": "project.ipynb",
      "provenance": [],
      "collapsed_sections": []
    },
    "kernelspec": {
      "name": "python3",
      "display_name": "Python 3"
    },
    "language_info": {
      "name": "python"
    }
  },
  "cells": [
    {
      "cell_type": "code",
      "metadata": {
        "colab": {
          "base_uri": "https://localhost:8080/"
        },
        "id": "PNZXm3hHcMPw",
        "outputId": "3a405b27-c15f-4faa-bb2c-8b9d17b50e11"
      },
      "source": [
        "import os\n",
        "import glob\n",
        "\n",
        "files_list = glob.glob(\"*\")\n",
        "\n",
        "extension_set = set()\n",
        "\n",
        "for file in files_list:\n",
        "    extension = file.split(sep=\".\")\n",
        "    try:\n",
        "        extension_set.add(extension[1])\n",
        "    except IndexError:\n",
        "            continue\n",
        "\n",
        "\n",
        "print(extension_set)\n",
        "\n",
        " \n",
        "def createDirs():\n",
        "     for dir in extension_set:\n",
        "         try:\n",
        "             os.makedirs(dir+\"_files\")\n",
        "         except FileExistsError:\n",
        "                 continue\n",
        "\n",
        "def arrange():\n",
        "    for file in files_list:\n",
        "        fextension = file.split(sep=\".\")\n",
        "        try:\n",
        "            os.rename(file, fextension[1]+\"_files/\"+file)\n",
        "        except (OSError, IndexError):\n",
        "            continue\n",
        "\n",
        "\n",
        "createDirs()\n",
        "arrange()\n"
      ],
      "execution_count": 1,
      "outputs": [
        {
          "output_type": "stream",
          "name": "stdout",
          "text": [
            "set()\n"
          ]
        }
      ]
    }
  ]
}